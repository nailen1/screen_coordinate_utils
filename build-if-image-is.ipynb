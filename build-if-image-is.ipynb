{
 "cells": [
  {
   "cell_type": "code",
   "execution_count": 3,
   "metadata": {},
   "outputs": [],
   "source": [
    "import pyautogui\n",
    "import cv2\n",
    "import numpy as np\n",
    "import os"
   ]
  },
  {
   "cell_type": "code",
   "execution_count": 12,
   "metadata": {},
   "outputs": [],
   "source": [
    "import pyautogui\n",
    "import cv2\n",
    "import numpy as np\n",
    "import os\n",
    "\n",
    "def detect_image_on_screen(target_path, confidence=0.8):\n",
    "    try:\n",
    "        # 파일 경로 확인\n",
    "        print(f\"대상 이미지 경로: {target_path}\")\n",
    "        if not os.path.exists(target_path):\n",
    "            return False, f\"오류: 파일이 존재하지 않습니다 - {target_path}\"\n",
    "\n",
    "        # confidence를 float로 변환\n",
    "        confidence = float(confidence)\n",
    "        \n",
    "        # 대상 이미지 로드\n",
    "        target = cv2.imread(target_path)\n",
    "        \n",
    "        if target is None:\n",
    "            return False, f\"대상 이미지를 불러오는 데 실패했습니다: {target_path}\"\n",
    "        \n",
    "        print(f\"대상 이미지 크기: {target.shape}\")\n",
    "        \n",
    "        # 현재 화면 캡처\n",
    "        screenshot = pyautogui.screenshot()\n",
    "        screenshot = cv2.cvtColor(np.array(screenshot), cv2.COLOR_RGB2BGR)\n",
    "        \n",
    "        print(f\"스크린샷 크기: {screenshot.shape}\")\n",
    "        \n",
    "        # 템플릿 매칭 수행\n",
    "        result = cv2.matchTemplate(screenshot, target, cv2.TM_CCOEFF_NORMED)\n",
    "        \n",
    "        # 임계값을 넘는 위치 찾기\n",
    "        locations = np.where(result >= confidence)\n",
    "        \n",
    "        # 매칭된 위치가 있으면 True 반환\n",
    "        if len(locations[0]) > 0:\n",
    "            return True, f\"이미지가 화면에서 발견되었습니다. 발견된 위치 수: {len(locations[0])}\"\n",
    "        else:\n",
    "            return False, \"이미지를 화면에서 찾을 수 없습니다.\"\n",
    "        \n",
    "    except ValueError as e:\n",
    "        return False, f\"오류 발생: confidence 값이 올바르지 않습니다. {str(e)}\"\n",
    "    except Exception as e:\n",
    "        return False, f\"오류 발생: {str(e)}\"\n",
    "\n"
   ]
  },
  {
   "cell_type": "code",
   "execution_count": 14,
   "metadata": {},
   "outputs": [
    {
     "name": "stdout",
     "output_type": "stream",
     "text": [
      "대상 이미지 경로: images/image-claude-logo.png\n",
      "대상 이미지 크기: (108, 100, 3)\n",
      "감지 결과: False\n",
      "메시지: 오류 발생: '<' not supported between instances of 'str' and 'int'\n"
     ]
    }
   ],
   "source": [
    "\n",
    "# 사용 예시\n",
    "# 현재 작업 디렉토리를 기준으로 상대 경로 사용\n",
    "file_path = os.path.join('images', 'image-claude-logo.png')\n",
    "\n",
    "# 절대 경로를 사용하려면 아래 줄의 주석을 제거하고 경로를 수정하세요\n",
    "# file_path = '/절대/경로/images/image-claude-logo.png'\n",
    "\n",
    "is_detected, message = detect_image_on_screen(target_path=file_path)\n",
    "print(f\"감지 결과: {is_detected}\")\n",
    "print(f\"메시지: {message}\")"
   ]
  },
  {
   "cell_type": "code",
   "execution_count": 7,
   "metadata": {},
   "outputs": [
    {
     "data": {
      "text/plain": [
       "'images/image-claude-logo.png'"
      ]
     },
     "execution_count": 7,
     "metadata": {},
     "output_type": "execute_result"
    }
   ],
   "source": [
    "file_path = os.path.join('images', 'image-claude-logo.png')\n",
    "file_path"
   ]
  },
  {
   "cell_type": "code",
   "execution_count": 11,
   "metadata": {},
   "outputs": [
    {
     "data": {
      "text/plain": [
       "(False, \"오류 발생: '<' not supported between instances of 'str' and 'int'\")"
      ]
     },
     "execution_count": 11,
     "metadata": {},
     "output_type": "execute_result"
    }
   ],
   "source": [
    "detect_image_on_screen(target_path=file_path)"
   ]
  },
  {
   "cell_type": "code",
   "execution_count": 16,
   "metadata": {},
   "outputs": [
    {
     "name": "stdout",
     "output_type": "stream",
     "text": [
      "Python 버전: 3.11.3 (main, Apr 19 2023, 18:49:55) [Clang 14.0.6 ]\n",
      "OpenCV 버전: 4.8.1\n",
      "PyAutoGUI 버전: 0.9.54\n",
      "NumPy 버전: 1.24.3\n",
      "Pillow 버전: 9.4.0\n"
     ]
    }
   ],
   "source": [
    "import sys\n",
    "\n",
    "def check_versions():\n",
    "    print(f\"Python 버전: {sys.version}\")\n",
    "    print(f\"OpenCV 버전: {cv2.__version__}\")\n",
    "    print(f\"PyAutoGUI 버전: {pyautogui.__version__}\")\n",
    "    print(f\"NumPy 버전: {np.__version__}\")\n",
    "\n",
    "    try:\n",
    "        import PIL\n",
    "        print(f\"Pillow 버전: {PIL.__version__}\")\n",
    "    except ImportError:\n",
    "        print(\"Pillow가 설치되어 있지 않습니다.\")\n",
    "\n",
    "check_versions()"
   ]
  },
  {
   "cell_type": "code",
   "execution_count": 19,
   "metadata": {},
   "outputs": [
    {
     "name": "stdout",
     "output_type": "stream",
     "text": [
      "대상 이미지 경로: images/image-claude-logo.png\n",
      "설정된 confidence 값: 0.8\n",
      "대상 이미지 크기: (108, 100, 4)\n",
      "대상 이미지 채널: 4\n",
      "감지 결과: False\n",
      "메시지: 오류 발생: '<' not supported between instances of 'str' and 'int'\n",
      "Traceback (most recent call last):\n",
      "  File \"/var/folders/_1/0byqfsn56tzdr_b7z00g95xw0000gn/T/ipykernel_39796/945236347.py\", line 30, in detect_image_on_screen\n",
      "    screenshot = pyautogui.screenshot()\n",
      "                 ^^^^^^^^^^^^^^^^^^^^^^\n",
      "  File \"/Users/juneyoungpark/anaconda3/lib/python3.11/site-packages/pyscreeze/__init__.py\", line 527, in _screenshot_osx\n",
      "    if tuple(PIL__version__) < (6, 2, 1):\n",
      "       ^^^^^^^^^^^^^^^^^^^^^^^^^^^^^^^^^\n",
      "TypeError: '<' not supported between instances of 'str' and 'int'\n",
      "\n"
     ]
    }
   ],
   "source": [
    "import pyautogui\n",
    "import cv2\n",
    "import numpy as np\n",
    "import os\n",
    "\n",
    "def detect_image_on_screen(target_path, confidence=0.8):\n",
    "    try:\n",
    "        # 파일 경로 확인\n",
    "        print(f\"대상 이미지 경로: {target_path}\")\n",
    "        if not os.path.exists(target_path):\n",
    "            return False, f\"오류: 파일이 존재하지 않습니다 - {target_path}\"\n",
    "\n",
    "        # confidence를 float로 변환\n",
    "        try:\n",
    "            confidence = float(confidence)\n",
    "            print(f\"설정된 confidence 값: {confidence}\")\n",
    "        except ValueError:\n",
    "            return False, f\"오류: confidence 값({confidence})이 올바른 숫자가 아닙니다.\"\n",
    "        \n",
    "        # 대상 이미지 로드\n",
    "        target = cv2.imread(target_path, cv2.IMREAD_UNCHANGED)\n",
    "        \n",
    "        if target is None:\n",
    "            return False, f\"대상 이미지를 불러오는 데 실패했습니다: {target_path}\"\n",
    "        \n",
    "        print(f\"대상 이미지 크기: {target.shape}\")\n",
    "        print(f\"대상 이미지 채널: {target.shape[2] if len(target.shape) > 2 else 1}\")\n",
    "        \n",
    "        # 현재 화면 캡처\n",
    "        screenshot = pyautogui.screenshot()\n",
    "        screenshot = cv2.cvtColor(np.array(screenshot), cv2.COLOR_RGB2BGR)\n",
    "        \n",
    "        print(f\"스크린샷 크기: {screenshot.shape}\")\n",
    "        \n",
    "        # DPI 스케일링 처리\n",
    "        scale_factor = pyautogui.screenshot().size[0] / screenshot.shape[1]\n",
    "        if scale_factor != 1:\n",
    "            print(f\"DPI 스케일링 감지됨. 스케일 팩터: {scale_factor}\")\n",
    "            target = cv2.resize(target, None, fx=scale_factor, fy=scale_factor)\n",
    "            print(f\"조정된 대상 이미지 크기: {target.shape}\")\n",
    "        \n",
    "        # 템플릿 매칭 수행\n",
    "        result = cv2.matchTemplate(screenshot, target, cv2.TM_CCOEFF_NORMED)\n",
    "        \n",
    "        # 임계값을 넘는 위치 찾기\n",
    "        locations = np.where(result >= confidence)\n",
    "        \n",
    "        max_val = np.max(result)\n",
    "        print(f\"매칭 결과 최대값: {max_val}\")\n",
    "        \n",
    "        # 매칭된 위치가 있으면 True 반환\n",
    "        if len(locations[0]) > 0:\n",
    "            return True, f\"이미지가 화면에서 발견되었습니다. 발견된 위치 수: {len(locations[0])}, 최대 매칭값: {max_val}\"\n",
    "        else:\n",
    "            return False, f\"이미지를 화면에서 찾을 수 없습니다. 최대 매칭값: {max_val}\"\n",
    "        \n",
    "    except Exception as e:\n",
    "        import traceback\n",
    "        return False, f\"오류 발생: {str(e)}\\n{traceback.format_exc()}\"\n",
    "\n",
    "# 사용 예시\n",
    "file_path = os.path.join('images', 'image-claude-logo.png')\n",
    "is_detected, message = detect_image_on_screen(target_path=file_path)\n",
    "print(f\"감지 결과: {is_detected}\")\n",
    "print(f\"메시지: {message}\")"
   ]
  },
  {
   "cell_type": "code",
   "execution_count": null,
   "metadata": {},
   "outputs": [],
   "source": []
  }
 ],
 "metadata": {
  "kernelspec": {
   "display_name": "base",
   "language": "python",
   "name": "python3"
  },
  "language_info": {
   "codemirror_mode": {
    "name": "ipython",
    "version": 3
   },
   "file_extension": ".py",
   "mimetype": "text/x-python",
   "name": "python",
   "nbconvert_exporter": "python",
   "pygments_lexer": "ipython3",
   "version": "3.11.3"
  }
 },
 "nbformat": 4,
 "nbformat_minor": 2
}
