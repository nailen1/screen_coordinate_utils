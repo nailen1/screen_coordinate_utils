{
 "cells": [
  {
   "cell_type": "code",
   "execution_count": 38,
   "metadata": {},
   "outputs": [],
   "source": [
    "import importlib\n",
    "import screen_coordinates_utils\n",
    "importlib.reload(screen_coordinates_utils)\n",
    "from screen_coordinates_utils import *"
   ]
  },
  {
   "cell_type": "code",
   "execution_count": 20,
   "metadata": {},
   "outputs": [
    {
     "name": "stdout",
     "output_type": "stream",
     "text": [
      "Mouse clicked at (724.0703125, 222.12109375)\n"
     ]
    }
   ],
   "source": [
    "get_click_coordinates()"
   ]
  },
  {
   "cell_type": "code",
   "execution_count": 22,
   "metadata": {},
   "outputs": [],
   "source": [
    "coord_logo_title = (375.60546875, 470.76953125)\n",
    "coord_select_fund = (384.68359375, 372.96875)\n",
    "coord_generate_button = (385.48046875, 747.08984375)\n",
    "coord_header = (516.828125, 215.79296875)\n",
    "coord_logo_report = (724.0703125, 222.12109375)"
   ]
  },
  {
   "cell_type": "code",
   "execution_count": 39,
   "metadata": {},
   "outputs": [
    {
     "name": "stdout",
     "output_type": "stream",
     "text": [
      "Cursor moved to coordinates: (375.60546875, 470.76953125)\n",
      "Waiting for 1 seconds...\n",
      "Wait time is over.\n",
      "Clicked at coordinates: (375.60546875, 470.76953125)\n",
      "Clicked at coordinates: (375.60546875, 470.76953125)\n",
      "Waiting for 1 seconds...\n",
      "Wait time is over.\n",
      "Clicked at coordinates: (384.68359375, 372.96875)\n",
      "Typed string: 100004\n",
      "Pressed Enter key.\n",
      "Waiting for 1 seconds...\n",
      "Wait time is over.\n",
      "Clicked at coordinates: (385.48046875, 747.08984375)\n",
      "Waiting for 5 seconds...\n",
      "Wait time is over.\n",
      "Image found on the screen. Returning True.\n",
      "Waiting for 1 seconds...\n",
      "Wait time is over.\n",
      "Clicked at coordinates: (516.828125, 215.79296875)\n",
      "Waiting for 1 seconds...\n",
      "Wait time is over.\n",
      "Pressed Enter key.\n",
      "Waiting for 1 seconds...\n",
      "Wait time is over.\n",
      "Pressed Enter key.\n",
      "Maximum check time exceeded. Stopping check. Assume it does not exist.\n"
     ]
    }
   ],
   "source": [
    "move_cursor_to(*coord_logo_title)\n",
    "wait_for_n_seconds(1)\n",
    "click_at_coordinates(*coord_logo_title)\n",
    "click_at_coordinates(*coord_logo_title)\n",
    "wait_for_n_seconds(1)\n",
    "click_at_coordinates(*coord_select_fund)\n",
    "# click_at_coordinates(*coord_logo_title)\n",
    "type_string(\"100004\")\n",
    "press_enter()\n",
    "wait_for_n_seconds(1)\n",
    "click_at_coordinates(*coord_generate_button)\n",
    "wait_for_n_seconds(5)\n",
    "check_image_appearance(\"images/image-report-screen-identifier.png\")\n",
    "wait_for_n_seconds(1)\n",
    "click_at_coordinates(*coord_header)\n",
    "wait_for_n_seconds(1)\n",
    "press_enter()\n",
    "wait_for_n_seconds(1)\n",
    "press_enter()\n",
    "\n",
    "is_duplicated = check_image_appearance(\"images/image-duplicate-caution.png\", max_check_time=5)\n",
    "\n",
    "if is_duplicated:\n",
    "    press_esc()\n",
    "    wait_for_n_seconds(1)\n",
    "    press_esc()\n",
    "    wait_for_n_seconds(1)\n",
    "    press_esc()\n"
   ]
  },
  {
   "cell_type": "code",
   "execution_count": null,
   "metadata": {},
   "outputs": [],
   "source": []
  }
 ],
 "metadata": {
  "kernelspec": {
   "display_name": "base",
   "language": "python",
   "name": "python3"
  },
  "language_info": {
   "codemirror_mode": {
    "name": "ipython",
    "version": 3
   },
   "file_extension": ".py",
   "mimetype": "text/x-python",
   "name": "python",
   "nbconvert_exporter": "python",
   "pygments_lexer": "ipython3",
   "version": "3.11.3"
  }
 },
 "nbformat": 4,
 "nbformat_minor": 2
}
